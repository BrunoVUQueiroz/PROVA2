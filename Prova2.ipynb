{
 "cells": [
  {
   "cell_type": "code",
   "execution_count": 5,
   "id": "73cb39dc-7e7b-4bde-8449-eff5530fd62a",
   "metadata": {},
   "outputs": [
    {
     "name": "stdout",
     "output_type": "stream",
     "text": [
      "O consumo diário médio foi: 51.41379310344828\n"
     ]
    }
   ],
   "source": [
    "\n",
    "def consumo(lista):\n",
    "    soma = sum(lista)\n",
    "    numero_de_valores = len(lista)\n",
    "    media = (soma / numero_de_valores)\n",
    "    return media\n",
    "list_consumo_diario = [ 50, 45, 55, 60, 48, 52, 47, 49, 53, 51, 50, 46, 54, 61, 49, 53, 48, 50,52, 47, 56, 50, 55, 60, 48, 52, 47, 49, 53, 51]\n",
    "media = consumo(list_consumo_diario)\n",
    "print(f\"O consumo diário médio foi: {media}\")"
   ]
  },
  {
   "cell_type": "code",
   "execution_count": null,
   "id": "84fbe02e-2925-43d9-90a0-6a1f833e0bfb",
   "metadata": {},
   "outputs": [],
   "source": []
  },
  {
   "cell_type": "code",
   "execution_count": null,
   "id": "6fe3324e-b522-4954-b6c0-26b2276d13bb",
   "metadata": {},
   "outputs": [],
   "source": []
  }
 ],
 "metadata": {
  "kernelspec": {
   "display_name": "Python 3 (ipykernel)",
   "language": "python",
   "name": "python3"
  },
  "language_info": {
   "codemirror_mode": {
    "name": "ipython",
    "version": 3
   },
   "file_extension": ".py",
   "mimetype": "text/x-python",
   "name": "python",
   "nbconvert_exporter": "python",
   "pygments_lexer": "ipython3",
   "version": "3.12.4"
  }
 },
 "nbformat": 4,
 "nbformat_minor": 5
}
